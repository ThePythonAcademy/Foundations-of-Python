{
  "nbformat": 4,
  "nbformat_minor": 0,
  "metadata": {
    "colab": {
      "provenance": []
    },
    "kernelspec": {
      "name": "python3",
      "display_name": "Python 3"
    },
    "language_info": {
      "name": "python"
    }
  },
  "cells": [
    {
      "cell_type": "markdown",
      "source": [
        "# Data Type Casting"
      ],
      "metadata": {
        "id": "tFBB7NfElaLI"
      }
    },
    {
      "cell_type": "code",
      "source": [
        "x = \"4\"\n",
        "print(int(x))"
      ],
      "metadata": {
        "colab": {
          "base_uri": "https://localhost:8080/"
        },
        "id": "VG32PGTpl1gd",
        "outputId": "991cce22-d028-4f7e-9df8-576d8be858fa"
      },
      "execution_count": 7,
      "outputs": [
        {
          "output_type": "stream",
          "name": "stdout",
          "text": [
            "4\n"
          ]
        }
      ]
    },
    {
      "cell_type": "code",
      "source": [
        "# Cannot convert a string to an integer unless its a valid conversion\n",
        "y = \"batman\"\n",
        "print(int(y))"
      ],
      "metadata": {
        "colab": {
          "base_uri": "https://localhost:8080/",
          "height": 176
        },
        "collapsed": true,
        "id": "pTdmJCEuqefZ",
        "outputId": "b3f9b674-8d55-47ef-9c6a-9b245ddfa8d7"
      },
      "execution_count": 1,
      "outputs": [
        {
          "output_type": "error",
          "ename": "ValueError",
          "evalue": "invalid literal for int() with base 10: 'batman'",
          "traceback": [
            "\u001b[0;31m---------------------------------------------------------------------------\u001b[0m",
            "\u001b[0;31mValueError\u001b[0m                                Traceback (most recent call last)",
            "\u001b[0;32m/tmp/ipython-input-1-268366971.py\u001b[0m in \u001b[0;36m<cell line: 0>\u001b[0;34m()\u001b[0m\n\u001b[1;32m      1\u001b[0m \u001b[0;31m# Cannot convert a string to an integer unless its a valid conversion\u001b[0m\u001b[0;34m\u001b[0m\u001b[0;34m\u001b[0m\u001b[0m\n\u001b[1;32m      2\u001b[0m \u001b[0my\u001b[0m \u001b[0;34m=\u001b[0m \u001b[0;34m\"batman\"\u001b[0m\u001b[0;34m\u001b[0m\u001b[0;34m\u001b[0m\u001b[0m\n\u001b[0;32m----> 3\u001b[0;31m \u001b[0mprint\u001b[0m\u001b[0;34m(\u001b[0m\u001b[0mint\u001b[0m\u001b[0;34m(\u001b[0m\u001b[0my\u001b[0m\u001b[0;34m)\u001b[0m\u001b[0;34m)\u001b[0m\u001b[0;34m\u001b[0m\u001b[0;34m\u001b[0m\u001b[0m\n\u001b[0m",
            "\u001b[0;31mValueError\u001b[0m: invalid literal for int() with base 10: 'batman'"
          ]
        }
      ]
    },
    {
      "cell_type": "code",
      "source": [
        "x = 123.34\n",
        "print(str(x))"
      ],
      "metadata": {
        "colab": {
          "base_uri": "https://localhost:8080/"
        },
        "id": "-R4FUFo1qpMD",
        "outputId": "04c805b9-51ce-415f-da62-8c524c0c6337"
      },
      "execution_count": 9,
      "outputs": [
        {
          "output_type": "stream",
          "name": "stdout",
          "text": [
            "123.34\n"
          ]
        }
      ]
    },
    {
      "cell_type": "code",
      "source": [
        "car = 20000\n",
        "\n",
        "print(\"Anthony \" + \"bought a car for \" + str(car))"
      ],
      "metadata": {
        "id": "zm1w8JKpbmgW"
      },
      "execution_count": null,
      "outputs": []
    },
    {
      "cell_type": "markdown",
      "source": [
        "# String Indexing"
      ],
      "metadata": {
        "id": "j2EudJBgl294"
      }
    },
    {
      "cell_type": "code",
      "source": [
        "food = \"hot dogs\"\n",
        "len(food)"
      ],
      "metadata": {
        "id": "GhukXia1bq0y"
      },
      "execution_count": null,
      "outputs": []
    },
    {
      "cell_type": "code",
      "source": [
        "name = \"Anthony\"\n",
        "\n",
        "print(name[0])"
      ],
      "metadata": {
        "colab": {
          "base_uri": "https://localhost:8080/"
        },
        "id": "yplNOUdFl49n",
        "outputId": "eb1a3fd8-daab-4cc5-9f3b-89bff3c35b77"
      },
      "execution_count": 11,
      "outputs": [
        {
          "output_type": "stream",
          "name": "stdout",
          "text": [
            "A\n"
          ]
        }
      ]
    },
    {
      "cell_type": "code",
      "source": [
        "print(name[1])"
      ],
      "metadata": {
        "colab": {
          "base_uri": "https://localhost:8080/"
        },
        "id": "J9CBoRourYkz",
        "outputId": "e8dfdfeb-2292-4556-fab5-892ee5d35da7"
      },
      "execution_count": 12,
      "outputs": [
        {
          "output_type": "stream",
          "name": "stdout",
          "text": [
            "n\n"
          ]
        }
      ]
    },
    {
      "cell_type": "code",
      "source": [
        "movie = \"tombstone\"\n",
        "\n",
        "ml = len(movie)\n",
        "\n",
        "if ml < 8:\n",
        "  print(\"Hi\")\n",
        "else:\n",
        "  print(movie[1])"
      ],
      "metadata": {
        "colab": {
          "base_uri": "https://localhost:8080/"
        },
        "id": "DVm4-mvZreYQ",
        "outputId": "2c0da550-d18a-45ab-9534-80a9ebc152c5"
      },
      "execution_count": 2,
      "outputs": [
        {
          "output_type": "stream",
          "name": "stdout",
          "text": [
            " \n"
          ]
        }
      ]
    },
    {
      "cell_type": "code",
      "source": [
        "movie = \"arrival\"\n",
        "\n",
        "if movie[3] == \"i\":\n",
        "\n",
        "  x = \"4\"\n",
        "\n",
        "  print(int(x) * 10)\n",
        "else:\n",
        "  print(movie)"
      ],
      "metadata": {
        "id": "XDfb-dOibyuR"
      },
      "execution_count": null,
      "outputs": []
    },
    {
      "cell_type": "code",
      "source": [
        "movie = \"arrival\"\n",
        "\n",
        "if movie[3] == \"i\":\n",
        "\n",
        "  x = \"4\"\n",
        "\n",
        "  print(movie[0] + movie[4])\n",
        "else:\n",
        "  print(movie)"
      ],
      "metadata": {
        "id": "-U7pBgX4b1Gc"
      },
      "execution_count": null,
      "outputs": []
    },
    {
      "cell_type": "code",
      "source": [
        "x = \"tac\"\n",
        "y = \"oma\"\n",
        "z = len(x + y)\n",
        "print(z)"
      ],
      "metadata": {
        "id": "L1gjsf75b2_N"
      },
      "execution_count": null,
      "outputs": []
    },
    {
      "cell_type": "markdown",
      "source": [
        "# Arrays"
      ],
      "metadata": {
        "id": "8QnLCVF1mCjY"
      }
    },
    {
      "cell_type": "markdown",
      "source": [
        "A collection of items in a specific order."
      ],
      "metadata": {
        "id": "aiPeAsjbmFyX"
      }
    },
    {
      "cell_type": "code",
      "source": [
        "# Integers\n",
        "numbers = [1, 2, 3, 4, 5]"
      ],
      "metadata": {
        "id": "Bp-9hvULmD-E"
      },
      "execution_count": 1,
      "outputs": []
    },
    {
      "cell_type": "code",
      "source": [
        "# Strings\n",
        "words = [\"hello\", \"world\"]"
      ],
      "metadata": {
        "id": "cay6EtC1mgyT"
      },
      "execution_count": null,
      "outputs": []
    },
    {
      "cell_type": "code",
      "source": [
        "mixed = [1, \"apple\", 3.14, True]  # A list with different data types"
      ],
      "metadata": {
        "id": "0y9fHn_FmrFu"
      },
      "execution_count": null,
      "outputs": []
    },
    {
      "cell_type": "code",
      "source": [
        "animals = [\"cat\", \"dog\", \"bird\", \"fish\", \"lion\"]\n",
        "print(animals[0])  # First element\n",
        "print(animals[2])  # Third element\n",
        "print(animals[-1])  # Last element"
      ],
      "metadata": {
        "id": "J17ZE6jBmxpT"
      },
      "execution_count": null,
      "outputs": []
    },
    {
      "cell_type": "code",
      "source": [
        "my_list = [\"apple\", \"banana\"]\n",
        "my_list.append(\"cherry\")  # Add an item\n",
        "print(my_list)"
      ],
      "metadata": {
        "id": "roNeGuftmxmC"
      },
      "execution_count": null,
      "outputs": []
    },
    {
      "cell_type": "code",
      "source": [
        "my_list.remove(\"banana\")  # Remove an item\n",
        "print(my_list)"
      ],
      "metadata": {
        "id": "er6kpWW5mxgL"
      },
      "execution_count": null,
      "outputs": []
    },
    {
      "cell_type": "code",
      "source": [
        "pa_class = [\"Anthony\" , \"Corey\" , \"Anthony\" , \"Patrice\"]"
      ],
      "metadata": {
        "id": "BxClk7P5b86e"
      },
      "execution_count": null,
      "outputs": []
    },
    {
      "cell_type": "code",
      "source": [
        "pa_class[3]"
      ],
      "metadata": {
        "id": "8kPZp7vEb_Tz"
      },
      "execution_count": null,
      "outputs": []
    },
    {
      "cell_type": "code",
      "source": [
        "s1 = \"Anthony\"\n",
        "s2 = \"Patrice\"\n",
        "\n",
        "myarray = [s1 , s2]\n",
        "\n",
        "myarray[0] + \" and \" + myarray[1]"
      ],
      "metadata": {
        "id": "0A1Axv29cB3p"
      },
      "execution_count": null,
      "outputs": []
    },
    {
      "cell_type": "code",
      "source": [
        "numbers = [10 , 23 , 45 , 45]\n",
        "names = [\"Anthony\" , \"Evin\"]\n",
        "\n",
        "print(names[0] + \" has \" + str(numbers[0]) + \" dogs\")"
      ],
      "metadata": {
        "id": "b1YACZpTcDQw"
      },
      "execution_count": null,
      "outputs": []
    },
    {
      "cell_type": "code",
      "source": [
        "mix = [100 , \"2 years old\"]\n",
        "\n",
        "if len(mix) >= 3:\n",
        "  print(mix[0])\n",
        "else:\n",
        "  print(\"my number is \" + str(mix[0] * int(mix[1][0])))"
      ],
      "metadata": {
        "id": "XQB2JtC4cFB8"
      },
      "execution_count": null,
      "outputs": []
    },
    {
      "cell_type": "code",
      "source": [
        "mix = [100 , \"2 years old\"]\n",
        "\n",
        "if len(mix) >= 3:\n",
        "  print(mix[0])\n",
        "else:\n",
        "  print(mix[0] * int(mix[1][0]))"
      ],
      "metadata": {
        "id": "7q0lV4RqcHgB"
      },
      "execution_count": null,
      "outputs": []
    }
  ]
}