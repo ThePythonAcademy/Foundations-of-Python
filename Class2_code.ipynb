{
  "cells": [
    {
      "cell_type": "markdown",
      "metadata": {
        "id": "qRfNe3jJpf15"
      },
      "source": [
        "# Arithmetics"
      ]
    },
    {
      "cell_type": "markdown",
      "metadata": {
        "id": "tTmTaIQOph9K"
      },
      "source": [
        "The main arithmetics we will cover today are: <br>\n",
        "\n",
        "1) Addition: + <br>\n",
        "2) Substraction: - <br>\n",
        "3) Division: / <br>\n",
        "4) Multiplication: *"
      ]
    },
    {
      "cell_type": "code",
      "execution_count": 6,
      "metadata": {
        "colab": {
          "base_uri": "https://localhost:8080/"
        },
        "id": "v7xvEkgfjPsI",
        "outputId": "57988e69-d3c2-453e-eee9-e767c8975154"
      },
      "outputs": [
        {
          "name": "stdout",
          "output_type": "stream",
          "text": [
            "2\n"
          ]
        }
      ],
      "source": [
        "print(1+1)"
      ]
    },
    {
      "cell_type": "markdown",
      "metadata": {
        "id": "RvN8JF17p4PM"
      },
      "source": [
        "integer + integer = integer <br>\n",
        "integer - integer = integer"
      ]
    },
    {
      "cell_type": "code",
      "execution_count": 7,
      "metadata": {
        "colab": {
          "base_uri": "https://localhost:8080/"
        },
        "id": "kv5YfajViGhb",
        "outputId": "d2f035de-993a-4b86-8e55-554a04c81931"
      },
      "outputs": [
        {
          "name": "stdout",
          "output_type": "stream",
          "text": [
            "2.2\n"
          ]
        }
      ],
      "source": [
        "print(1+1.2)"
      ]
    },
    {
      "cell_type": "markdown",
      "metadata": {
        "id": "g1eMQRMlp9v5"
      },
      "source": [
        "integer + float = float <br>\n",
        "integer - float = float"
      ]
    },
    {
      "cell_type": "code",
      "execution_count": 8,
      "metadata": {
        "colab": {
          "base_uri": "https://localhost:8080/"
        },
        "id": "gXHwEpBrjkeI",
        "outputId": "616f5448-2e6e-4582-ed67-e397bf4f81d2"
      },
      "outputs": [
        {
          "name": "stdout",
          "output_type": "stream",
          "text": [
            "0.3999999999999999\n"
          ]
        }
      ],
      "source": [
        "print(1.4-1)"
      ]
    },
    {
      "cell_type": "code",
      "execution_count": 13,
      "metadata": {
        "colab": {
          "base_uri": "https://localhost:8080/"
        },
        "id": "y-ZJ-xcmjkcM",
        "outputId": "1ad83028-8c2b-4ef0-ca93-6f996c4fa8d8"
      },
      "outputs": [
        {
          "name": "stdout",
          "output_type": "stream",
          "text": [
            "10\n"
          ]
        }
      ],
      "source": [
        "print(2*5)"
      ]
    },
    {
      "cell_type": "markdown",
      "metadata": {
        "id": "K40ITPOPqHRQ"
      },
      "source": [
        "Division will always result in float"
      ]
    },
    {
      "cell_type": "code",
      "execution_count": 11,
      "metadata": {
        "colab": {
          "base_uri": "https://localhost:8080/"
        },
        "id": "8xtE-dy_jkX7",
        "outputId": "9749b481-08c1-4459-ab8d-d41f7cdc732b"
      },
      "outputs": [
        {
          "name": "stdout",
          "output_type": "stream",
          "text": [
            "0.5\n"
          ]
        }
      ],
      "source": [
        "print(1/2)"
      ]
    },
    {
      "cell_type": "code",
      "execution_count": 12,
      "metadata": {
        "colab": {
          "base_uri": "https://localhost:8080/"
        },
        "id": "m5yWPkDPjkVn",
        "outputId": "5e9c2421-6374-4925-a84b-aedae0280e30"
      },
      "outputs": [
        {
          "name": "stdout",
          "output_type": "stream",
          "text": [
            "2.5\n"
          ]
        }
      ],
      "source": [
        "print(5/2)"
      ]
    },
    {
      "cell_type": "code",
      "execution_count": 17,
      "metadata": {
        "colab": {
          "base_uri": "https://localhost:8080/"
        },
        "id": "s63iVAUimBb4",
        "outputId": "5782dc15-7050-4312-ad89-a9082466d147"
      },
      "outputs": [
        {
          "name": "stdout",
          "output_type": "stream",
          "text": [
            "8\n"
          ]
        }
      ],
      "source": [
        "y = 4\n",
        "x = 2\n",
        "\n",
        "print(x*y)"
      ]
    },
    {
      "cell_type": "code",
      "execution_count": 16,
      "metadata": {
        "colab": {
          "base_uri": "https://localhost:8080/"
        },
        "id": "OO2g_0VOlg6J",
        "outputId": "4327d241-ff94-461d-ba16-418c5cf8d49e"
      },
      "outputs": [
        {
          "name": "stdout",
          "output_type": "stream",
          "text": [
            "-2\n"
          ]
        }
      ],
      "source": [
        "print(x-y-1)"
      ]
    },
    {
      "cell_type": "code",
      "execution_count": 18,
      "metadata": {
        "colab": {
          "base_uri": "https://localhost:8080/"
        },
        "id": "sS571SdumW0s",
        "outputId": "d8973da1-1a42-4e89-d35b-0d5bd01c4fcd"
      },
      "outputs": [
        {
          "name": "stdout",
          "output_type": "stream",
          "text": [
            "2.0\n"
          ]
        }
      ],
      "source": [
        "print(y/x)"
      ]
    },
    {
      "cell_type": "markdown",
      "metadata": {
        "id": "8mWITAjfqorN"
      },
      "source": [
        "# Arithmetics with Strings"
      ]
    },
    {
      "cell_type": "code",
      "execution_count": 45,
      "metadata": {
        "id": "i-_de6OQm-hv"
      },
      "outputs": [],
      "source": [
        "name = \"Anthony\"\n",
        "familyname = \"Moubarak\"\n",
        "space = \" \"\n",
        "x = \" the third\""
      ]
    },
    {
      "cell_type": "code",
      "execution_count": 46,
      "metadata": {
        "colab": {
          "base_uri": "https://localhost:8080/"
        },
        "id": "_FTTZ6RJn974",
        "outputId": "fad06347-403c-4313-ba6f-5bb1a4a1a091"
      },
      "outputs": [
        {
          "name": "stdout",
          "output_type": "stream",
          "text": [
            "Anthony Moubarak the third\n"
          ]
        }
      ],
      "source": [
        "print(name + space + familyname + x)"
      ]
    },
    {
      "cell_type": "code",
      "execution_count": 47,
      "metadata": {
        "colab": {
          "base_uri": "https://localhost:8080/"
        },
        "id": "tUkY_vhrlv5k",
        "outputId": "9c0fbb5d-3fdb-4feb-d3b9-7216b7bf0df7"
      },
      "outputs": [
        {
          "name": "stdout",
          "output_type": "stream",
          "text": [
            "Hello my name is Anthony\n"
          ]
        }
      ],
      "source": [
        "print(\"Hello my name is \" + name)"
      ]
    },
    {
      "cell_type": "markdown",
      "metadata": {
        "id": "XmDwJcgoqtlf"
      },
      "source": [
        "**NOTE**: Empty spaces are considered characters/letters, so \"Anthony\" is different than \" Anthony\", different than \"  Anthony\" , etc."
      ]
    },
    {
      "cell_type": "markdown",
      "metadata": {
        "id": "s-aU82RVq-IA"
      },
      "source": [
        "# Conditionals"
      ]
    },
    {
      "cell_type": "code",
      "execution_count": 53,
      "metadata": {
        "colab": {
          "base_uri": "https://localhost:8080/"
        },
        "id": "vnCUSJq5p_qF",
        "outputId": "631349cc-8437-4bfe-de1b-d411baa20314"
      },
      "outputs": [
        {
          "name": "stdout",
          "output_type": "stream",
          "text": [
            "False\n"
          ]
        }
      ],
      "source": [
        "print(1 == 2)"
      ]
    },
    {
      "cell_type": "code",
      "execution_count": 56,
      "metadata": {
        "colab": {
          "base_uri": "https://localhost:8080/"
        },
        "id": "eWdFQZPyqs7P",
        "outputId": "801a13d1-c68f-4791-e615-33c3036188ee"
      },
      "outputs": [
        {
          "name": "stdout",
          "output_type": "stream",
          "text": [
            "True\n"
          ]
        }
      ],
      "source": [
        "print(1 != 2)"
      ]
    },
    {
      "cell_type": "code",
      "execution_count": 54,
      "metadata": {
        "colab": {
          "base_uri": "https://localhost:8080/"
        },
        "id": "Jw9ZlsIxp_nf",
        "outputId": "a56abb8b-91a7-4b12-84c1-bd02ef042dab"
      },
      "outputs": [
        {
          "name": "stdout",
          "output_type": "stream",
          "text": [
            "True\n"
          ]
        }
      ],
      "source": [
        "print(1 < 2)"
      ]
    },
    {
      "cell_type": "code",
      "execution_count": 55,
      "metadata": {
        "colab": {
          "base_uri": "https://localhost:8080/"
        },
        "id": "ak650gxqpVQu",
        "outputId": "30527989-7b06-4e30-a2e1-8ab36e814c12"
      },
      "outputs": [
        {
          "name": "stdout",
          "output_type": "stream",
          "text": [
            "True\n"
          ]
        }
      ],
      "source": [
        "print(10 <= 10)"
      ]
    },
    {
      "cell_type": "code",
      "execution_count": 57,
      "metadata": {
        "colab": {
          "base_uri": "https://localhost:8080/"
        },
        "id": "buFydTv_pVOJ",
        "outputId": "c8ca46f3-7029-419f-ab08-db7f163c1d49"
      },
      "outputs": [
        {
          "name": "stdout",
          "output_type": "stream",
          "text": [
            "False\n"
          ]
        }
      ],
      "source": [
        "print(\"a\" == \"A\")"
      ]
    },
    {
      "cell_type": "code",
      "execution_count": 58,
      "metadata": {
        "colab": {
          "base_uri": "https://localhost:8080/"
        },
        "id": "Q5Z_zKP1pVLi",
        "outputId": "5fae64f8-64f3-4c2f-fef3-6865c5b4f924"
      },
      "outputs": [
        {
          "name": "stdout",
          "output_type": "stream",
          "text": [
            "False\n"
          ]
        }
      ],
      "source": [
        "print(\"a\" == \"a \")"
      ]
    },
    {
      "cell_type": "code",
      "execution_count": 59,
      "metadata": {
        "colab": {
          "base_uri": "https://localhost:8080/"
        },
        "id": "2nhcNRv9rDxE",
        "outputId": "ef502e4e-3158-4279-d6e5-312dc06c5df7"
      },
      "outputs": [
        {
          "name": "stdout",
          "output_type": "stream",
          "text": [
            "False\n"
          ]
        }
      ],
      "source": [
        "a = 2\n",
        "\n",
        "print(a == \"2\")"
      ]
    },
    {
      "cell_type": "code",
      "execution_count": 62,
      "metadata": {
        "colab": {
          "base_uri": "https://localhost:8080/"
        },
        "id": "gAJ9VCrkrDu6",
        "outputId": "e5b644dc-2d7b-42c9-cdf7-bccb38313091"
      },
      "outputs": [
        {
          "name": "stdout",
          "output_type": "stream",
          "text": [
            "True\n"
          ]
        }
      ],
      "source": [
        "a = 2.0\n",
        "b = 4\n",
        "c = 2\n",
        "x = b/c\n",
        "print(x == a)"
      ]
    },
    {
      "cell_type": "code",
      "execution_count": 61,
      "metadata": {
        "colab": {
          "base_uri": "https://localhost:8080/"
        },
        "id": "vsPMSy8crDoH",
        "outputId": "eee902f5-9851-4749-abdb-9c7ca9f2dd47"
      },
      "outputs": [
        {
          "name": "stdout",
          "output_type": "stream",
          "text": [
            "2.0\n"
          ]
        }
      ],
      "source": [
        "a = 2.0\n",
        "b = 4\n",
        "c = 2\n",
        "x = b/c\n",
        "print(x)"
      ]
    },
    {
      "cell_type": "markdown",
      "metadata": {
        "id": "DrYtFsdArRbe"
      },
      "source": [
        "# If Statements"
      ]
    },
    {
      "cell_type": "markdown",
      "metadata": {
        "id": "S1CufYUjreBo"
      },
      "source": [
        "**NOTE**: Always look at if else statements vertically in pairs"
      ]
    },
    {
      "cell_type": "code",
      "execution_count": 64,
      "metadata": {
        "id": "kv-04cBWsN8F"
      },
      "outputs": [],
      "source": [
        "if 1 == 2:\n",
        "  print(\"Hello\")\n",
        "\n",
        "print(\"Anthony\")"
      ]
    },
    {
      "cell_type": "code",
      "execution_count": 71,
      "metadata": {
        "colab": {
          "base_uri": "https://localhost:8080/"
        },
        "id": "V5DPA9lssSff",
        "outputId": "80b7d781-5293-47e2-a6b6-5c13257b74f2"
      },
      "outputs": [
        {
          "name": "stdout",
          "output_type": "stream",
          "text": [
            "Not equal numbers\n"
          ]
        }
      ],
      "source": [
        "x = 4\n",
        "y = 5\n",
        "\n",
        "\n",
        "if x==y:\n",
        "  if x/y == 2:\n",
        "    print(\"Hi\")\n",
        "  else:\n",
        "    print(\"Bye\")\n",
        "\n",
        "else:\n",
        "  print(\"Not equal numbers\")\n",
        "\n"
      ]
    },
    {
      "cell_type": "code",
      "execution_count": 76,
      "metadata": {
        "colab": {
          "base_uri": "https://localhost:8080/"
        },
        "id": "maUc5wBbsSa-",
        "outputId": "b67bb2aa-6fac-4512-d176-9f27d48ad65d"
      },
      "outputs": [
        {
          "name": "stdout",
          "output_type": "stream",
          "text": [
            "Bye\n",
            "2.0\n"
          ]
        }
      ],
      "source": [
        "x = \"\"\n",
        "\n",
        "\n",
        "if x == 3:\n",
        "  print(\"Hey\")\n",
        "\n",
        "else:\n",
        "  print(\"Bye\")\n",
        "\n",
        "print(4/2)"
      ]
    },
    {
      "cell_type": "code",
      "execution_count": 83,
      "metadata": {
        "colab": {
          "base_uri": "https://localhost:8080/"
        },
        "id": "Yhqoh_WezWBm",
        "outputId": "fc57dff1-33ca-4ad6-cab9-541b53a91d88"
      },
      "outputs": [
        {
          "name": "stdout",
          "output_type": "stream",
          "text": [
            "Bye\n"
          ]
        }
      ],
      "source": [
        "a = \"anthony\"\n",
        "b = \"anthony\"\n",
        "x = 1\n",
        "y = 1\n",
        "z = 10\n",
        "\n",
        "if a == b:\n",
        "\n",
        "  if x*-1 == 1:\n",
        "    print(10/2 == 5)\n",
        "  else:\n",
        "    print(\"Bye\")\n",
        "\n",
        "else:\n",
        "  print(\"Monday\")"
      ]
    },
    {
      "cell_type": "code",
      "execution_count": 87,
      "metadata": {
        "colab": {
          "base_uri": "https://localhost:8080/"
        },
        "id": "as8pZ7fXzV6v",
        "outputId": "af4452a7-3625-43d7-f199-2376e3ea86c2"
      },
      "outputs": [
        {
          "name": "stdout",
          "output_type": "stream",
          "text": [
            "3\n"
          ]
        }
      ],
      "source": [
        "x = 4\n",
        "\n",
        "if x == 3:\n",
        "  print(\"3\")\n",
        "\n",
        "elif x == 5:\n",
        "  print(\"5\")\n",
        "\n",
        "else:\n",
        "  print(\"Not 3\")"
      ]
    }
  ],
  "metadata": {
    "colab": {
      "provenance": []
    },
    "kernelspec": {
      "display_name": "Python 3",
      "name": "python3"
    },
    "language_info": {
      "name": "python"
    }
  },
  "nbformat": 4,
  "nbformat_minor": 0
}
