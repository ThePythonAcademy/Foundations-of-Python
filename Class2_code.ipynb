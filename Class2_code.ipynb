{
  "nbformat": 4,
  "nbformat_minor": 0,
  "metadata": {
    "colab": {
      "provenance": []
    },
    "kernelspec": {
      "name": "python3",
      "display_name": "Python 3"
    },
    "language_info": {
      "name": "python"
    }
  },
  "cells": [
    {
      "cell_type": "markdown",
      "source": [
        "I have a deck of 52 cards, in 3 separate code cells, print the following:\n",
        "\n",
        "The number of total cards by using a variable <br>\n",
        "Assign a variable for the number of Aces in the deck (there are 4 aces) <br>\n",
        "Calculate the chance/probability (result will be between 0 and 1) of getting an Ace and print out that probability."
      ],
      "metadata": {
        "id": "E4RUc-j0bh6T"
      }
    },
    {
      "cell_type": "code",
      "source": [
        "print(52)"
      ],
      "metadata": {
        "colab": {
          "base_uri": "https://localhost:8080/"
        },
        "id": "GNCNPUTXbjwC",
        "outputId": "743296df-2ff0-489d-bf7f-f7eedcf894f6"
      },
      "execution_count": 1,
      "outputs": [
        {
          "output_type": "stream",
          "name": "stdout",
          "text": [
            "52\n"
          ]
        }
      ]
    },
    {
      "cell_type": "code",
      "source": [
        "cards = 52"
      ],
      "metadata": {
        "id": "7yiYcKjxiGr8"
      },
      "execution_count": 2,
      "outputs": []
    },
    {
      "cell_type": "code",
      "source": [
        "print(cards)"
      ],
      "metadata": {
        "colab": {
          "base_uri": "https://localhost:8080/"
        },
        "id": "Sb0PDrawiGpe",
        "outputId": "4db1df49-f668-4cd4-fd28-b5f29b16557c"
      },
      "execution_count": 3,
      "outputs": [
        {
          "output_type": "stream",
          "name": "stdout",
          "text": [
            "52\n"
          ]
        }
      ]
    },
    {
      "cell_type": "code",
      "source": [
        "aces = 4\n",
        "print(4)"
      ],
      "metadata": {
        "colab": {
          "base_uri": "https://localhost:8080/"
        },
        "id": "X3n_Tt7UiGmy",
        "outputId": "5d9416fb-21d7-40bc-a982-1cc634c53e77"
      },
      "execution_count": 4,
      "outputs": [
        {
          "output_type": "stream",
          "name": "stdout",
          "text": [
            "4\n"
          ]
        }
      ]
    },
    {
      "cell_type": "code",
      "source": [
        "print(\"aces=4\")"
      ],
      "metadata": {
        "colab": {
          "base_uri": "https://localhost:8080/"
        },
        "id": "pk6k_-XQiGkR",
        "outputId": "ed5969e4-b4ae-45b6-b309-4e9aa17cdd30"
      },
      "execution_count": 5,
      "outputs": [
        {
          "output_type": "stream",
          "name": "stdout",
          "text": [
            "aces=4\n"
          ]
        }
      ]
    },
    {
      "cell_type": "markdown",
      "source": [
        "# Arithmetics"
      ],
      "metadata": {
        "id": "qRfNe3jJpf15"
      }
    },
    {
      "cell_type": "markdown",
      "source": [
        "The main arithmetics we will cover today are: <br>\n",
        "\n",
        "1) Addition: + <br>\n",
        "2) Substraction: - <br>\n",
        "3) Division: / <br>\n",
        "4) Multiplication: *"
      ],
      "metadata": {
        "id": "tTmTaIQOph9K"
      }
    },
    {
      "cell_type": "code",
      "source": [
        "print(1+1)"
      ],
      "metadata": {
        "colab": {
          "base_uri": "https://localhost:8080/"
        },
        "id": "v7xvEkgfjPsI",
        "outputId": "57988e69-d3c2-453e-eee9-e767c8975154"
      },
      "execution_count": 6,
      "outputs": [
        {
          "output_type": "stream",
          "name": "stdout",
          "text": [
            "2\n"
          ]
        }
      ]
    },
    {
      "cell_type": "markdown",
      "source": [
        "integer + integer = integer <br>\n",
        "integer - integer = integer"
      ],
      "metadata": {
        "id": "RvN8JF17p4PM"
      }
    },
    {
      "cell_type": "code",
      "source": [
        "print(1+1.2)"
      ],
      "metadata": {
        "colab": {
          "base_uri": "https://localhost:8080/"
        },
        "id": "kv5YfajViGhb",
        "outputId": "d2f035de-993a-4b86-8e55-554a04c81931"
      },
      "execution_count": 7,
      "outputs": [
        {
          "output_type": "stream",
          "name": "stdout",
          "text": [
            "2.2\n"
          ]
        }
      ]
    },
    {
      "cell_type": "markdown",
      "source": [
        "integer + float = float <br>\n",
        "integer - float = float"
      ],
      "metadata": {
        "id": "g1eMQRMlp9v5"
      }
    },
    {
      "cell_type": "code",
      "source": [
        "print(1.4-1)"
      ],
      "metadata": {
        "colab": {
          "base_uri": "https://localhost:8080/"
        },
        "id": "gXHwEpBrjkeI",
        "outputId": "616f5448-2e6e-4582-ed67-e397bf4f81d2"
      },
      "execution_count": 8,
      "outputs": [
        {
          "output_type": "stream",
          "name": "stdout",
          "text": [
            "0.3999999999999999\n"
          ]
        }
      ]
    },
    {
      "cell_type": "code",
      "source": [
        "print(2*5)"
      ],
      "metadata": {
        "colab": {
          "base_uri": "https://localhost:8080/"
        },
        "id": "y-ZJ-xcmjkcM",
        "outputId": "1ad83028-8c2b-4ef0-ca93-6f996c4fa8d8"
      },
      "execution_count": 13,
      "outputs": [
        {
          "output_type": "stream",
          "name": "stdout",
          "text": [
            "10\n"
          ]
        }
      ]
    },
    {
      "cell_type": "markdown",
      "source": [
        "Division will always result in float"
      ],
      "metadata": {
        "id": "K40ITPOPqHRQ"
      }
    },
    {
      "cell_type": "code",
      "source": [
        "print(1/2)"
      ],
      "metadata": {
        "colab": {
          "base_uri": "https://localhost:8080/"
        },
        "id": "8xtE-dy_jkX7",
        "outputId": "9749b481-08c1-4459-ab8d-d41f7cdc732b"
      },
      "execution_count": 11,
      "outputs": [
        {
          "output_type": "stream",
          "name": "stdout",
          "text": [
            "0.5\n"
          ]
        }
      ]
    },
    {
      "cell_type": "code",
      "source": [
        "print(5/2)"
      ],
      "metadata": {
        "colab": {
          "base_uri": "https://localhost:8080/"
        },
        "id": "m5yWPkDPjkVn",
        "outputId": "5e9c2421-6374-4925-a84b-aedae0280e30"
      },
      "execution_count": 12,
      "outputs": [
        {
          "output_type": "stream",
          "name": "stdout",
          "text": [
            "2.5\n"
          ]
        }
      ]
    },
    {
      "cell_type": "code",
      "source": [
        "y = 4\n",
        "x = 2\n",
        "\n",
        "print(x*y)"
      ],
      "metadata": {
        "colab": {
          "base_uri": "https://localhost:8080/"
        },
        "id": "s63iVAUimBb4",
        "outputId": "5782dc15-7050-4312-ad89-a9082466d147"
      },
      "execution_count": 17,
      "outputs": [
        {
          "output_type": "stream",
          "name": "stdout",
          "text": [
            "8\n"
          ]
        }
      ]
    },
    {
      "cell_type": "code",
      "source": [
        "print(x-y-1)"
      ],
      "metadata": {
        "colab": {
          "base_uri": "https://localhost:8080/"
        },
        "id": "OO2g_0VOlg6J",
        "outputId": "4327d241-ff94-461d-ba16-418c5cf8d49e"
      },
      "execution_count": 16,
      "outputs": [
        {
          "output_type": "stream",
          "name": "stdout",
          "text": [
            "-2\n"
          ]
        }
      ]
    },
    {
      "cell_type": "code",
      "source": [
        "print(y/x)"
      ],
      "metadata": {
        "colab": {
          "base_uri": "https://localhost:8080/"
        },
        "id": "sS571SdumW0s",
        "outputId": "d8973da1-1a42-4e89-d35b-0d5bd01c4fcd"
      },
      "execution_count": 18,
      "outputs": [
        {
          "output_type": "stream",
          "name": "stdout",
          "text": [
            "2.0\n"
          ]
        }
      ]
    },
    {
      "cell_type": "markdown",
      "source": [
        "# Arithmetics with Strings"
      ],
      "metadata": {
        "id": "8mWITAjfqorN"
      }
    },
    {
      "cell_type": "code",
      "source": [
        "name = \"Anthony\"\n",
        "familyname = \"Moubarak\"\n",
        "space = \" \"\n",
        "x = \" the third\""
      ],
      "metadata": {
        "id": "i-_de6OQm-hv"
      },
      "execution_count": 45,
      "outputs": []
    },
    {
      "cell_type": "code",
      "source": [
        "print(name + space + familyname + x)"
      ],
      "metadata": {
        "colab": {
          "base_uri": "https://localhost:8080/"
        },
        "id": "_FTTZ6RJn974",
        "outputId": "fad06347-403c-4313-ba6f-5bb1a4a1a091"
      },
      "execution_count": 46,
      "outputs": [
        {
          "output_type": "stream",
          "name": "stdout",
          "text": [
            "Anthony Moubarak the third\n"
          ]
        }
      ]
    },
    {
      "cell_type": "code",
      "source": [
        "print(\"Hello my name is \" + name)"
      ],
      "metadata": {
        "colab": {
          "base_uri": "https://localhost:8080/"
        },
        "id": "tUkY_vhrlv5k",
        "outputId": "9c0fbb5d-3fdb-4feb-d3b9-7216b7bf0df7"
      },
      "execution_count": 47,
      "outputs": [
        {
          "output_type": "stream",
          "name": "stdout",
          "text": [
            "Hello my name is Anthony\n"
          ]
        }
      ]
    },
    {
      "cell_type": "markdown",
      "source": [
        "**NOTE**: Empty spaces are considered characters/letters, so \"Anthony\" is different than \" Anthony\", different than \"  Anthony\" , etc."
      ],
      "metadata": {
        "id": "XmDwJcgoqtlf"
      }
    },
    {
      "cell_type": "markdown",
      "source": [
        "# Conditionals"
      ],
      "metadata": {
        "id": "s-aU82RVq-IA"
      }
    },
    {
      "cell_type": "code",
      "source": [
        "print(1 == 2)"
      ],
      "metadata": {
        "colab": {
          "base_uri": "https://localhost:8080/"
        },
        "id": "vnCUSJq5p_qF",
        "outputId": "631349cc-8437-4bfe-de1b-d411baa20314"
      },
      "execution_count": 53,
      "outputs": [
        {
          "output_type": "stream",
          "name": "stdout",
          "text": [
            "False\n"
          ]
        }
      ]
    },
    {
      "cell_type": "code",
      "source": [
        "print(1 != 2)"
      ],
      "metadata": {
        "colab": {
          "base_uri": "https://localhost:8080/"
        },
        "id": "eWdFQZPyqs7P",
        "outputId": "801a13d1-c68f-4791-e615-33c3036188ee"
      },
      "execution_count": 56,
      "outputs": [
        {
          "output_type": "stream",
          "name": "stdout",
          "text": [
            "True\n"
          ]
        }
      ]
    },
    {
      "cell_type": "code",
      "source": [
        "print(1 < 2)"
      ],
      "metadata": {
        "colab": {
          "base_uri": "https://localhost:8080/"
        },
        "id": "Jw9ZlsIxp_nf",
        "outputId": "a56abb8b-91a7-4b12-84c1-bd02ef042dab"
      },
      "execution_count": 54,
      "outputs": [
        {
          "output_type": "stream",
          "name": "stdout",
          "text": [
            "True\n"
          ]
        }
      ]
    },
    {
      "cell_type": "code",
      "source": [
        "print(10 <= 10)"
      ],
      "metadata": {
        "colab": {
          "base_uri": "https://localhost:8080/"
        },
        "id": "ak650gxqpVQu",
        "outputId": "30527989-7b06-4e30-a2e1-8ab36e814c12"
      },
      "execution_count": 55,
      "outputs": [
        {
          "output_type": "stream",
          "name": "stdout",
          "text": [
            "True\n"
          ]
        }
      ]
    },
    {
      "cell_type": "code",
      "source": [
        "print(\"a\" == \"A\")"
      ],
      "metadata": {
        "colab": {
          "base_uri": "https://localhost:8080/"
        },
        "id": "buFydTv_pVOJ",
        "outputId": "c8ca46f3-7029-419f-ab08-db7f163c1d49"
      },
      "execution_count": 57,
      "outputs": [
        {
          "output_type": "stream",
          "name": "stdout",
          "text": [
            "False\n"
          ]
        }
      ]
    },
    {
      "cell_type": "code",
      "source": [
        "print(\"a\" == \"a \")"
      ],
      "metadata": {
        "colab": {
          "base_uri": "https://localhost:8080/"
        },
        "id": "Q5Z_zKP1pVLi",
        "outputId": "5fae64f8-64f3-4c2f-fef3-6865c5b4f924"
      },
      "execution_count": 58,
      "outputs": [
        {
          "output_type": "stream",
          "name": "stdout",
          "text": [
            "False\n"
          ]
        }
      ]
    },
    {
      "cell_type": "code",
      "source": [
        "a = 2\n",
        "\n",
        "print(a == \"2\")"
      ],
      "metadata": {
        "colab": {
          "base_uri": "https://localhost:8080/"
        },
        "id": "2nhcNRv9rDxE",
        "outputId": "ef502e4e-3158-4279-d6e5-312dc06c5df7"
      },
      "execution_count": 59,
      "outputs": [
        {
          "output_type": "stream",
          "name": "stdout",
          "text": [
            "False\n"
          ]
        }
      ]
    },
    {
      "cell_type": "code",
      "source": [
        "a = 2.0\n",
        "b = 4\n",
        "c = 2\n",
        "x = b/c\n",
        "print(x == a)"
      ],
      "metadata": {
        "colab": {
          "base_uri": "https://localhost:8080/"
        },
        "id": "gAJ9VCrkrDu6",
        "outputId": "e5b644dc-2d7b-42c9-cdf7-bccb38313091"
      },
      "execution_count": 62,
      "outputs": [
        {
          "output_type": "stream",
          "name": "stdout",
          "text": [
            "True\n"
          ]
        }
      ]
    },
    {
      "cell_type": "code",
      "source": [
        "a = 2.0\n",
        "b = 4\n",
        "c = 2\n",
        "x = b/c\n",
        "print(x)"
      ],
      "metadata": {
        "colab": {
          "base_uri": "https://localhost:8080/"
        },
        "id": "vsPMSy8crDoH",
        "outputId": "eee902f5-9851-4749-abdb-9c7ca9f2dd47"
      },
      "execution_count": 61,
      "outputs": [
        {
          "output_type": "stream",
          "name": "stdout",
          "text": [
            "2.0\n"
          ]
        }
      ]
    },
    {
      "cell_type": "markdown",
      "source": [
        "# If Statements"
      ],
      "metadata": {
        "id": "DrYtFsdArRbe"
      }
    },
    {
      "cell_type": "markdown",
      "source": [
        "**NOTE**: Always look at if else statements vertically in pairs"
      ],
      "metadata": {
        "id": "S1CufYUjreBo"
      }
    },
    {
      "cell_type": "code",
      "source": [
        "if 1 == 2:\n",
        "  print(\"Hello\")\n",
        "\n",
        "print(\"Anthony\")"
      ],
      "metadata": {
        "id": "kv-04cBWsN8F"
      },
      "execution_count": 64,
      "outputs": []
    },
    {
      "cell_type": "code",
      "source": [
        "x = 4\n",
        "y = 5\n",
        "\n",
        "\n",
        "if x==y:\n",
        "  if x/y == 2:\n",
        "    print(\"Hi\")\n",
        "  else:\n",
        "    print(\"Bye\")\n",
        "\n",
        "else:\n",
        "  print(\"Not equal numbers\")\n",
        "\n"
      ],
      "metadata": {
        "colab": {
          "base_uri": "https://localhost:8080/"
        },
        "id": "V5DPA9lssSff",
        "outputId": "80b7d781-5293-47e2-a6b6-5c13257b74f2"
      },
      "execution_count": 71,
      "outputs": [
        {
          "output_type": "stream",
          "name": "stdout",
          "text": [
            "Not equal numbers\n"
          ]
        }
      ]
    },
    {
      "cell_type": "code",
      "source": [
        "x = \"\"\n",
        "\n",
        "\n",
        "if x == 3:\n",
        "  print(\"Hey\")\n",
        "\n",
        "else:\n",
        "  print(\"Bye\")\n",
        "\n",
        "print(4/2)"
      ],
      "metadata": {
        "colab": {
          "base_uri": "https://localhost:8080/"
        },
        "id": "maUc5wBbsSa-",
        "outputId": "b67bb2aa-6fac-4512-d176-9f27d48ad65d"
      },
      "execution_count": 76,
      "outputs": [
        {
          "output_type": "stream",
          "name": "stdout",
          "text": [
            "Bye\n",
            "2.0\n"
          ]
        }
      ]
    },
    {
      "cell_type": "code",
      "source": [
        "a = \"anthony\"\n",
        "b = \"anthony\"\n",
        "x = 1\n",
        "y = 1\n",
        "z = 10\n",
        "\n",
        "if a == b:\n",
        "\n",
        "  if x*-1 == 1:\n",
        "    print(10/2 == 5)\n",
        "  else:\n",
        "    print(\"Bye\")\n",
        "\n",
        "else:\n",
        "  print(\"Monday\")"
      ],
      "metadata": {
        "colab": {
          "base_uri": "https://localhost:8080/"
        },
        "id": "Yhqoh_WezWBm",
        "outputId": "fc57dff1-33ca-4ad6-cab9-541b53a91d88"
      },
      "execution_count": 83,
      "outputs": [
        {
          "output_type": "stream",
          "name": "stdout",
          "text": [
            "Bye\n"
          ]
        }
      ]
    },
    {
      "cell_type": "code",
      "source": [
        "x = 4\n",
        "\n",
        "if x == 3:\n",
        "  print(\"3\")\n",
        "\n",
        "elif x == 5:\n",
        "  print(\"5\")\n",
        "\n",
        "else:\n",
        "  print(\"Not 3\")"
      ],
      "metadata": {
        "colab": {
          "base_uri": "https://localhost:8080/"
        },
        "id": "as8pZ7fXzV6v",
        "outputId": "af4452a7-3625-43d7-f199-2376e3ea86c2"
      },
      "execution_count": 87,
      "outputs": [
        {
          "output_type": "stream",
          "name": "stdout",
          "text": [
            "3\n"
          ]
        }
      ]
    }
  ]
}