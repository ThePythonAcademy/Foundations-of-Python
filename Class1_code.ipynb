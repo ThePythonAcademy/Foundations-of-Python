{
  "cells": [
    {
      "cell_type": "markdown",
      "metadata": {
        "id": "egk9UJoz-YLE"
      },
      "source": [
        "# Class 1: Introduction to Python"
      ]
    },
    {
      "cell_type": "markdown",
      "metadata": {
        "id": "rD2Eh8HRFavj"
      },
      "source": [
        "## Part One: Fundamental Data types"
      ]
    },
    {
      "cell_type": "markdown",
      "metadata": {
        "id": "1uNtlr4wHnjW"
      },
      "source": [
        "**Integer**: Whole numbers"
      ]
    },
    {
      "cell_type": "code",
      "execution_count": null,
      "metadata": {
        "id": "QwehXCqzHgZw"
      },
      "outputs": [],
      "source": [
        "4"
      ]
    },
    {
      "cell_type": "code",
      "execution_count": null,
      "metadata": {
        "id": "bIB18LRQHsVC"
      },
      "outputs": [],
      "source": [
        "12"
      ]
    },
    {
      "cell_type": "code",
      "execution_count": null,
      "metadata": {
        "collapsed": true,
        "id": "La7bgDsGH4SG"
      },
      "outputs": [],
      "source": [
        "100000000"
      ]
    },
    {
      "cell_type": "code",
      "execution_count": null,
      "metadata": {
        "id": "jrKV5VhEbib0"
      },
      "outputs": [],
      "source": [
        "-120"
      ]
    },
    {
      "cell_type": "markdown",
      "metadata": {
        "id": "cX_NGlxFH6W5"
      },
      "source": [
        "**Float**: Decimals"
      ]
    },
    {
      "cell_type": "code",
      "execution_count": null,
      "metadata": {
        "id": "vGlvovYPIAZu"
      },
      "outputs": [],
      "source": [
        "3.75"
      ]
    },
    {
      "cell_type": "code",
      "execution_count": null,
      "metadata": {
        "id": "mdoHUiBVH_ZX"
      },
      "outputs": [],
      "source": [
        "1.2"
      ]
    },
    {
      "cell_type": "code",
      "execution_count": null,
      "metadata": {
        "id": "Vu7V-LX_IBzC"
      },
      "outputs": [],
      "source": [
        "456.23"
      ]
    },
    {
      "cell_type": "code",
      "execution_count": null,
      "metadata": {
        "id": "7mcbYyeKbkgx"
      },
      "outputs": [],
      "source": [
        "-24.35"
      ]
    },
    {
      "cell_type": "markdown",
      "metadata": {
        "id": "OLtSI67aIQLK"
      },
      "source": [
        "**String**: Text"
      ]
    },
    {
      "cell_type": "code",
      "execution_count": null,
      "metadata": {
        "id": "xWNsmTicIXOn"
      },
      "outputs": [],
      "source": [
        "\"anthony\""
      ]
    },
    {
      "cell_type": "code",
      "execution_count": null,
      "metadata": {
        "id": "CuLhglnwIZkd"
      },
      "outputs": [],
      "source": [
        "\"Hello World\""
      ]
    },
    {
      "cell_type": "code",
      "execution_count": null,
      "metadata": {
        "id": "QooNPkT9Ibgr"
      },
      "outputs": [],
      "source": [
        "\"This is the start of a very long sentence ...\""
      ]
    },
    {
      "cell_type": "markdown",
      "metadata": {
        "id": "YQnddAAvJE3T"
      },
      "source": [
        "**Note**: There are a lot more data types that will be covered later on in the course. (arrays, sets, dictionaries, etc.)"
      ]
    },
    {
      "cell_type": "markdown",
      "metadata": {
        "id": "NmMo-rU8BdaG"
      },
      "source": [
        "## Part Two: Print() statements"
      ]
    },
    {
      "cell_type": "markdown",
      "metadata": {
        "id": "pNL8BAoREpOy"
      },
      "source": [
        "### print() is a built in python function that displays whatever is \"inside\" it"
      ]
    },
    {
      "cell_type": "code",
      "execution_count": null,
      "metadata": {
        "colab": {
          "base_uri": "https://localhost:8080/"
        },
        "id": "L2MJCnl_-Z7t",
        "outputId": "9600484b-86ff-4c87-d2e7-4cad747d03dd"
      },
      "outputs": [
        {
          "name": "stdout",
          "output_type": "stream",
          "text": [
            "Hello World\n"
          ]
        }
      ],
      "source": [
        "print(\"Hello World\")"
      ]
    },
    {
      "cell_type": "code",
      "execution_count": null,
      "metadata": {
        "colab": {
          "base_uri": "https://localhost:8080/"
        },
        "id": "vt3BBAGp-cfX",
        "outputId": "754f4a3f-3205-4dcb-a092-8d7a21cd97b5"
      },
      "outputs": [
        {
          "name": "stdout",
          "output_type": "stream",
          "text": [
            "My name is Anthony Moubarak\n"
          ]
        }
      ],
      "source": [
        "print(\"My name is Anthony Moubarak\")"
      ]
    },
    {
      "cell_type": "markdown",
      "metadata": {
        "id": "5pzJGMVBJYwA"
      },
      "source": [
        "You can print different data types, not just strings"
      ]
    },
    {
      "cell_type": "code",
      "execution_count": null,
      "metadata": {
        "colab": {
          "base_uri": "https://localhost:8080/"
        },
        "id": "HL9ahV38-chz",
        "outputId": "46b49453-7262-4a79-d77e-8899cff0a046"
      },
      "outputs": [
        {
          "name": "stdout",
          "output_type": "stream",
          "text": [
            "3\n"
          ]
        }
      ],
      "source": [
        "print(3)"
      ]
    },
    {
      "cell_type": "code",
      "execution_count": null,
      "metadata": {
        "colab": {
          "base_uri": "https://localhost:8080/"
        },
        "id": "pXDt_W06Jmkx",
        "outputId": "a72bb348-7076-48d2-c9f9-8decef347a96"
      },
      "outputs": [
        {
          "name": "stdout",
          "output_type": "stream",
          "text": [
            "11.23\n"
          ]
        }
      ],
      "source": [
        "print(11.23)"
      ]
    },
    {
      "cell_type": "markdown",
      "metadata": {
        "id": "UfQkFoS4Jt2S"
      },
      "source": [
        "## Part Three: Variables"
      ]
    },
    {
      "cell_type": "markdown",
      "metadata": {
        "id": "647iVxdGKZHC"
      },
      "source": [
        " A **variable** in Python is a name you give to a value so you can use or change it later in your code.\n"
      ]
    },
    {
      "cell_type": "code",
      "execution_count": null,
      "metadata": {
        "id": "oeHSPiKbJxMQ"
      },
      "outputs": [],
      "source": [
        "x = 4"
      ]
    },
    {
      "cell_type": "code",
      "execution_count": null,
      "metadata": {
        "id": "TviEXnfoKiq0"
      },
      "outputs": [],
      "source": [
        "y = \"Hello World\""
      ]
    },
    {
      "cell_type": "code",
      "execution_count": null,
      "metadata": {
        "id": "4vcJQZifKmQ0"
      },
      "outputs": [],
      "source": [
        "z = 4.23"
      ]
    },
    {
      "cell_type": "code",
      "execution_count": null,
      "metadata": {
        "colab": {
          "base_uri": "https://localhost:8080/"
        },
        "id": "IY4qxoEzKqKo",
        "outputId": "265f6599-9b90-48e4-f208-6eb94b06e3b9"
      },
      "outputs": [
        {
          "name": "stdout",
          "output_type": "stream",
          "text": [
            "Hello World\n"
          ]
        }
      ],
      "source": [
        "print(y)"
      ]
    },
    {
      "cell_type": "code",
      "execution_count": null,
      "metadata": {
        "colab": {
          "base_uri": "https://localhost:8080/"
        },
        "id": "taCvp4kHZ4Da",
        "outputId": "a239ff44-ddb6-4c6a-a28d-58de6fae31f5"
      },
      "outputs": [
        {
          "name": "stdout",
          "output_type": "stream",
          "text": [
            "4\n"
          ]
        }
      ],
      "source": [
        "print(x)"
      ]
    },
    {
      "cell_type": "markdown",
      "metadata": {
        "id": "22Aorvmwajtm"
      },
      "source": [
        "## Part Four: Exercises"
      ]
    },
    {
      "cell_type": "markdown",
      "metadata": {
        "id": "5dIwdosJayBE"
      },
      "source": [
        "Print the result of: 24 - (50 - 24)"
      ]
    },
    {
      "cell_type": "code",
      "execution_count": null,
      "metadata": {
        "colab": {
          "base_uri": "https://localhost:8080/"
        },
        "id": "9j2_wktqanCG",
        "outputId": "193dd269-b704-4fb9-caf6-9fdcfefbbea3"
      },
      "outputs": [
        {
          "data": {
            "text/plain": [
              "-2"
            ]
          },
          "execution_count": 20,
          "metadata": {},
          "output_type": "execute_result"
        }
      ],
      "source": [
        "24 - (50 - 24)"
      ]
    },
    {
      "cell_type": "code",
      "execution_count": null,
      "metadata": {
        "colab": {
          "base_uri": "https://localhost:8080/"
        },
        "id": "kj9ctYEp9ZFD",
        "outputId": "be1e5cce-51a5-4d27-c044-cd340e602557"
      },
      "outputs": [
        {
          "name": "stdout",
          "output_type": "stream",
          "text": [
            "-2\n"
          ]
        }
      ],
      "source": [
        "print(24 - (50 - 24))"
      ]
    },
    {
      "cell_type": "markdown",
      "metadata": {
        "id": "DWbJOo7vbQ3L"
      },
      "source": [
        "Print the result of the same equation above but using variables"
      ]
    },
    {
      "cell_type": "code",
      "execution_count": null,
      "metadata": {
        "colab": {
          "base_uri": "https://localhost:8080/"
        },
        "id": "m38uciBda_Wd",
        "outputId": "c123e90e-ba0b-42bf-fe38-2cc36619ec7a"
      },
      "outputs": [
        {
          "name": "stdout",
          "output_type": "stream",
          "text": [
            "-2\n"
          ]
        }
      ],
      "source": [
        "x = 24\n",
        "y = 50 - 24\n",
        "\n",
        "print(x - y)"
      ]
    }
  ],
  "metadata": {
    "colab": {
      "provenance": []
    },
    "kernelspec": {
      "display_name": "Python 3",
      "name": "python3"
    },
    "language_info": {
      "name": "python"
    }
  },
  "nbformat": 4,
  "nbformat_minor": 0
}
